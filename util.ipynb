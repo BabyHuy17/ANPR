{
 "cells": [
  {
   "cell_type": "code",
   "execution_count": 1,
   "metadata": {},
   "outputs": [
    {
     "data": {
      "text/plain": [
       "True"
      ]
     },
     "execution_count": 1,
     "metadata": {},
     "output_type": "execute_result"
    }
   ],
   "source": [
    "import cv2 as cv\n",
    "from cv2 import dnn_superres\n",
    "\n",
    "def super_res(image):\n",
    "   sr = dnn_superres.DnnSuperResImpl_create()\n",
    "   model_path = \"SR models\\FSRCNN_x4.pb\"\n",
    "   sr.readModel(model_path)\n",
    "\n",
    "   # Choose model name, scale\n",
    "   sr.setModel(\"fsrcnn\", 4)\n",
    "\n",
    "   result = sr.upsample(image)\n",
    "   return result"
   ]
  },
  {
   "cell_type": "code",
   "execution_count": 1,
   "metadata": {},
   "outputs": [],
   "source": [
    "import cv2 as cv\n",
    "\n",
    "def preprocess(image):\n",
    "# Increase contrast\n",
    "   kernel = cv.getStructuringElement(cv.MORPH_RECT, (20, 20))\n",
    "   top_hat = cv.morphologyEx(image, cv.MORPH_TOPHAT, kernel)\n",
    "   black_hat = cv.morphologyEx(image, cv.MORPH_BLACKHAT, kernel)\n",
    "   cont = cv.add(image, top_hat)\n",
    "   cont = cv.subtract(cont, black_hat) \n",
    "# Blur & convert to gray\n",
    "   blur = cv.GaussianBlur(cont, (3, 3), 0) \n",
    "   gray = cv.cvtColor(blur, cv.COLOR_BGR2GRAY)\n",
    "# Get binary image \n",
    "   _, binary = cv.threshold(gray, 0, 255, cv.THRESH_BINARY + cv.THRESH_OTSU)\n",
    "   # edge = cv2.Canny(blur, 10, 200)\n",
    "   return binary"
   ]
  },
  {
   "cell_type": "code",
   "execution_count": null,
   "metadata": {},
   "outputs": [],
   "source": [
    "import cv2 as cv\n",
    "import easyocr\n",
    "\n",
    "def read_plate(image):\n",
    "    reader = easyocr.Reader(['en'], gpu=True)\n",
    "\n",
    "    results = reader.readtext(image)\n",
    "    for (bbox, text, prob) in results:\n",
    "        print(text)\n",
    "      #   (top_left, top_right, bottom_right, bottom_left) = bbox\n",
    "      #   top_left = tuple(map(int, top_left))\n",
    "      #   bottom_right = tuple(map(int, bottom_right))\n",
    "\n",
    "      #   # Draw the bounding box\n",
    "      #   cv.rectangle(image, top_left, bottom_right, (0, 255, 0), 2)\n",
    "\n",
    "      #   # Put the detected text\n",
    "      #   cv.putText(image, text, (top_left[0], top_left[1] - 10), cv.FONT_HERSHEY_SIMPLEX, 0.8, (0, 255, 0), 2)\n",
    "\n",
    "    # Display the image\n",
    "    cv.imshow('Image', image)\n",
    "    cv.waitKey(0)\n",
    "    cv.destroyAllWindows()"
   ]
  }
 ],
 "metadata": {
  "kernelspec": {
   "display_name": "Python 3",
   "language": "python",
   "name": "python3"
  },
  "language_info": {
   "codemirror_mode": {
    "name": "ipython",
    "version": 3
   },
   "file_extension": ".py",
   "mimetype": "text/x-python",
   "name": "python",
   "nbconvert_exporter": "python",
   "pygments_lexer": "ipython3",
   "version": "3.11.9"
  }
 },
 "nbformat": 4,
 "nbformat_minor": 2
}
